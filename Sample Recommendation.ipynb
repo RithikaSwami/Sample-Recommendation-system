{
 "cells": [
  {
   "cell_type": "code",
   "execution_count": 1,
   "id": "f48c5bfa-50d4-4375-a633-393b8b2530fb",
   "metadata": {},
   "outputs": [
    {
     "name": "stdout",
     "output_type": "stream",
     "text": [
      "Available Industries for Small Business Products:\n",
      "- Retail\n",
      "- Fashion\n",
      "- Beauty\n",
      "- Marketing\n",
      "- E-commerce\n",
      "- Management\n",
      "- Inventory\n",
      "- Finance\n"
     ]
    },
    {
     "name": "stdin",
     "output_type": "stream",
     "text": [
      "\n",
      "Enter an industry from the above list:  Retail\n"
     ]
    },
    {
     "name": "stdout",
     "output_type": "stream",
     "text": [
      "\n",
      "Products recommended for the Retail industry:\n",
      "                Product_Name\n",
      "                Counter Desk\n",
      "                  POS System\n",
      "  Printing Machine for Bills\n",
      "             Barcode Scanner\n",
      "Customer Management Software\n"
     ]
    }
   ],
   "source": [
    "# Import necessary libraries\n",
    "import pandas as pd\n",
    "\n",
    "# Expanded dataset of products categorized by industry\n",
    "data = {\n",
    "    'Product_ID': [1, 2, 3, 4, 5, 6, 7, 8, 9, 10, 11, 12, 13, 14],\n",
    "    'Product_Name': [\n",
    "        'Counter Desk', 'POS System', 'Printing Machine for Bills', \n",
    "        'Barcode Scanner', 'Customer Management Software', \n",
    "        'Tailoring Tools', 'Sewing Machine', 'Salon Equipment', \n",
    "        'Product Display Kits', 'Social Media Marketing Guide', \n",
    "        'E-commerce Platform Guide', 'Business Management Software', \n",
    "        'Inventory Management System', 'Financial Planning Tool'\n",
    "    ],\n",
    "    'Industry': [\n",
    "        'Retail', 'Retail', 'Retail', 'Retail', 'Retail',\n",
    "        'Fashion', 'Fashion', 'Beauty', 'Beauty', \n",
    "        'Marketing', 'E-commerce', 'Management', 'Inventory', 'Finance'\n",
    "    ]\n",
    "}\n",
    "\n",
    "# Create a DataFrame\n",
    "df = pd.DataFrame(data)\n",
    "\n",
    "# Function to get product recommendations based on industry\n",
    "def get_recommendations_by_industry(industry):\n",
    "    # Filter products by industry\n",
    "    industry_products = df[df['Industry'] == industry]\n",
    "    \n",
    "    # Check if the industry has any products\n",
    "    if not industry_products.empty:\n",
    "        print(f\"\\nProducts recommended for the {industry} industry:\")\n",
    "        print(industry_products[['Product_Name']].to_string(index=False))\n",
    "    else:\n",
    "        print(f\"\\nSorry, we don't have any products listed for the {industry} industry.\")\n",
    "\n",
    "# Function to take input from user and recommend products by industry\n",
    "def recommend_products_by_industry():\n",
    "    # List of available industries\n",
    "    industries = df['Industry'].unique()\n",
    "    \n",
    "    print(\"Available Industries for Small Business Products:\")\n",
    "    for industry in industries:\n",
    "        print(f\"- {industry}\")\n",
    "    \n",
    "    # Get user input for the industry they are interested in\n",
    "    user_input = input(\"\\nEnter an industry from the above list: \").strip()\n",
    "    \n",
    "    # Check if the industry exists in the dataset\n",
    "    if user_input in industries:\n",
    "        # Recommend products based on the selected industry\n",
    "        get_recommendations_by_industry(user_input)\n",
    "    else:\n",
    "        print(\"\\nThe industry you entered is not in the list. Please try again.\")\n",
    "\n",
    "# Call the function to start the industry-based recommendation process\n",
    "recommend_products_by_industry()\n"
   ]
  }
 ],
 "metadata": {
  "kernelspec": {
   "display_name": "Python 3 (ipykernel)",
   "language": "python",
   "name": "python3"
  },
  "language_info": {
   "codemirror_mode": {
    "name": "ipython",
    "version": 3
   },
   "file_extension": ".py",
   "mimetype": "text/x-python",
   "name": "python",
   "nbconvert_exporter": "python",
   "pygments_lexer": "ipython3",
   "version": "3.11.7"
  }
 },
 "nbformat": 4,
 "nbformat_minor": 5
}
